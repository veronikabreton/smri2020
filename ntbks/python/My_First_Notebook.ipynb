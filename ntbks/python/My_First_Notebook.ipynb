{
 "cells": [
  {
   "cell_type": "markdown",
   "metadata": {},
   "source": [
    "## Playing around"
   ]
  },
  {
   "cell_type": "code",
   "execution_count": 275,
   "metadata": {},
   "outputs": [],
   "source": [
    "import numpy as np\n",
    "import pandas as pd\n",
    "\n",
    "%matplotlib inline"
   ]
  },
  {
   "cell_type": "code",
   "execution_count": 276,
   "metadata": {},
   "outputs": [],
   "source": [
    "dat = pd.read_csv('../../data/pediatric_patient_drug_reports.csv',index_col=0)"
   ]
  },
  {
   "cell_type": "code",
   "execution_count": 277,
   "metadata": {},
   "outputs": [
    {
     "data": {
      "text/html": [
       "<div>\n",
       "<style scoped>\n",
       "    .dataframe tbody tr th:only-of-type {\n",
       "        vertical-align: middle;\n",
       "    }\n",
       "\n",
       "    .dataframe tbody tr th {\n",
       "        vertical-align: top;\n",
       "    }\n",
       "\n",
       "    .dataframe thead th {\n",
       "        text-align: right;\n",
       "    }\n",
       "</style>\n",
       "<table border=\"1\" class=\"dataframe\">\n",
       "  <thead>\n",
       "    <tr style=\"text-align: right;\">\n",
       "      <th></th>\n",
       "      <th>safetyreportid</th>\n",
       "      <th>age</th>\n",
       "      <th>atc_concept_id</th>\n",
       "      <th>atc_concept_name</th>\n",
       "      <th>meddra_concept_id</th>\n",
       "      <th>meddra_concept_name</th>\n",
       "      <th>reporter_qualification</th>\n",
       "      <th>drug_indication</th>\n",
       "    </tr>\n",
       "  </thead>\n",
       "  <tbody>\n",
       "    <tr>\n",
       "      <th>1</th>\n",
       "      <td>10040842</td>\n",
       "      <td>8.0</td>\n",
       "      <td>21600005</td>\n",
       "      <td>sodium fluoride</td>\n",
       "      <td>36919098</td>\n",
       "      <td>Abnormal Behaviour</td>\n",
       "      <td>Other health professional</td>\n",
       "      <td>GONADAL DYSGENESIS</td>\n",
       "    </tr>\n",
       "    <tr>\n",
       "      <th>3</th>\n",
       "      <td>10040842</td>\n",
       "      <td>8.0</td>\n",
       "      <td>21600005</td>\n",
       "      <td>sodium fluoride</td>\n",
       "      <td>35607483</td>\n",
       "      <td>Vision Blurred</td>\n",
       "      <td>Other health professional</td>\n",
       "      <td>GONADAL DYSGENESIS</td>\n",
       "    </tr>\n",
       "    <tr>\n",
       "      <th>5</th>\n",
       "      <td>10298142</td>\n",
       "      <td>2.0</td>\n",
       "      <td>21600005</td>\n",
       "      <td>sodium fluoride</td>\n",
       "      <td>36211461</td>\n",
       "      <td>Drug Administration Error</td>\n",
       "      <td>Consumer or non-health professional</td>\n",
       "      <td>ASTHMA</td>\n",
       "    </tr>\n",
       "    <tr>\n",
       "      <th>7</th>\n",
       "      <td>10298142</td>\n",
       "      <td>2.0</td>\n",
       "      <td>21600005</td>\n",
       "      <td>sodium fluoride</td>\n",
       "      <td>36718555</td>\n",
       "      <td>Insomnia</td>\n",
       "      <td>Consumer or non-health professional</td>\n",
       "      <td>ASTHMA</td>\n",
       "    </tr>\n",
       "    <tr>\n",
       "      <th>8</th>\n",
       "      <td>10413313</td>\n",
       "      <td>14.0</td>\n",
       "      <td>21600005</td>\n",
       "      <td>sodium fluoride</td>\n",
       "      <td>35809327</td>\n",
       "      <td>Drug Ineffective</td>\n",
       "      <td>Other health professional</td>\n",
       "      <td>ASTHMA</td>\n",
       "    </tr>\n",
       "  </tbody>\n",
       "</table>\n",
       "</div>"
      ],
      "text/plain": [
       "  safetyreportid   age  atc_concept_id atc_concept_name  meddra_concept_id  \\\n",
       "1       10040842   8.0        21600005  sodium fluoride           36919098   \n",
       "3       10040842   8.0        21600005  sodium fluoride           35607483   \n",
       "5       10298142   2.0        21600005  sodium fluoride           36211461   \n",
       "7       10298142   2.0        21600005  sodium fluoride           36718555   \n",
       "8       10413313  14.0        21600005  sodium fluoride           35809327   \n",
       "\n",
       "         meddra_concept_name               reporter_qualification  \\\n",
       "1         Abnormal Behaviour            Other health professional   \n",
       "3             Vision Blurred            Other health professional   \n",
       "5  Drug Administration Error  Consumer or non-health professional   \n",
       "7                   Insomnia  Consumer or non-health professional   \n",
       "8           Drug Ineffective            Other health professional   \n",
       "\n",
       "      drug_indication  \n",
       "1  GONADAL DYSGENESIS  \n",
       "3  GONADAL DYSGENESIS  \n",
       "5              ASTHMA  \n",
       "7              ASTHMA  \n",
       "8              ASTHMA  "
      ]
     },
     "execution_count": 277,
     "metadata": {},
     "output_type": "execute_result"
    }
   ],
   "source": [
    "dat.head()"
   ]
  },
  {
   "cell_type": "markdown",
   "metadata": {},
   "source": [
    "## showing data characteristics and objects"
   ]
  },
  {
   "cell_type": "code",
   "execution_count": 278,
   "metadata": {},
   "outputs": [
    {
     "data": {
      "text/plain": [
       "pandas.core.frame.DataFrame"
      ]
     },
     "execution_count": 278,
     "metadata": {},
     "output_type": "execute_result"
    }
   ],
   "source": [
    "type(dat)"
   ]
  },
  {
   "cell_type": "code",
   "execution_count": 279,
   "metadata": {},
   "outputs": [
    {
     "data": {
      "text/plain": [
       "1          8.0\n",
       "3          8.0\n",
       "5          2.0\n",
       "7          2.0\n",
       "8         14.0\n",
       "          ... \n",
       "196165     8.0\n",
       "196167     8.0\n",
       "196169     8.0\n",
       "196171     8.0\n",
       "196172     6.0\n",
       "Name: age, Length: 100000, dtype: float64"
      ]
     },
     "execution_count": 279,
     "metadata": {},
     "output_type": "execute_result"
    }
   ],
   "source": [
    "dat.age"
   ]
  },
  {
   "cell_type": "code",
   "execution_count": 280,
   "metadata": {},
   "outputs": [
    {
     "data": {
      "text/plain": [
       "1         21600005\n",
       "3         21600005\n",
       "5         21600005\n",
       "7         21600005\n",
       "8         21600005\n",
       "            ...   \n",
       "196165    21600096\n",
       "196167    21600096\n",
       "196169    21600096\n",
       "196171    21600096\n",
       "196172    21600096\n",
       "Name: atc_concept_id, Length: 100000, dtype: int64"
      ]
     },
     "execution_count": 280,
     "metadata": {},
     "output_type": "execute_result"
    }
   ],
   "source": [
    "dat.atc_concept_id"
   ]
  },
  {
   "cell_type": "code",
   "execution_count": 281,
   "metadata": {},
   "outputs": [
    {
     "data": {
      "text/plain": [
       "<matplotlib.axes._subplots.AxesSubplot at 0x7919a0dfa320>"
      ]
     },
     "execution_count": 281,
     "metadata": {},
     "output_type": "execute_result"
    },
    {
     "data": {
      "image/png": "[encoded data removed]",
      "text/plain": [
       "<Figure size 432x288 with 1 Axes>"
      ]
     },
     "metadata": {
      "needs_background": "light"
     },
     "output_type": "display_data"
    }
   ],
   "source": [
    "dat.age.hist()"
   ]
  },
  {
   "cell_type": "markdown",
   "metadata": {},
   "source": [
    "## What are the top ten reported reactions?"
   ]
  },
  {
   "cell_type": "code",
   "execution_count": 282,
   "metadata": {},
   "outputs": [
    {
     "data": {
      "text/plain": [
       "<matplotlib.axes._subplots.AxesSubplot at 0x7919a0daf7b8>"
      ]
     },
     "execution_count": 282,
     "metadata": {},
     "output_type": "execute_result"
    },
    {
     "data": {
      "image/png": "[encoded data removed]",
      "text/plain": [
       "<Figure size 432x288 with 1 Axes>"
      ]
     },
     "metadata": {
      "needs_background": "light"
     },
     "output_type": "display_data"
    }
   ],
   "source": [
    "(dat.\n",
    " loc[:,['safetyreportid','meddra_concept_name']].\n",
    " drop_duplicates().\n",
    " groupby('meddra_concept_name').\n",
    " count().\n",
    " sort_values('safetyreportid',ascending=False).\n",
    " head(10).\n",
    " plot.barh()\n",
    ")"
   ]
  },
  {
   "cell_type": "markdown",
   "metadata": {},
   "source": [
    "## What are the top ten reported drugs?"
   ]
  },
  {
   "cell_type": "code",
   "execution_count": 283,
   "metadata": {},
   "outputs": [
    {
     "data": {
      "text/plain": [
       "<matplotlib.axes._subplots.AxesSubplot at 0x7919a0cfc438>"
      ]
     },
     "execution_count": 283,
     "metadata": {},
     "output_type": "execute_result"
    },
    {
     "data": {
      "image/png": "[encoded data removed]",
      "text/plain": [
       "<Figure size 432x288 with 1 Axes>"
      ]
     },
     "metadata": {
      "needs_background": "light"
     },
     "output_type": "display_data"
    }
   ],
   "source": [
    "(dat.\n",
    "loc[:,['atc_concept_name','safetyreportid']].\n",
    "drop_duplicates().\n",
    "groupby('atc_concept_name').\n",
    "    count().\n",
    "    sort_values('safetyreportid', ascending=False).\n",
    "    head(10).\n",
    "    plot.barh()\n",
    "    )"
   ]
  },
  {
   "cell_type": "markdown",
   "metadata": {},
   "source": [
    "## For all of the asthma patients, what were their age distribution?"
   ]
  },
  {
   "cell_type": "code",
   "execution_count": 284,
   "metadata": {},
   "outputs": [],
   "source": [
    "# Humanized Algoirthm\n",
    "# Locate \"ASTHMA\" in the \"drug indication\" variable\n",
    "# Extract \"drug indication\", \"safetyreportid\",\"age\" from the data\n",
    "# Get rid of all the duplicates \n",
    "# Have the data grouped by the \"age\"\n",
    "# Count all the number of \"safetyreportid\"\n",
    "# Plot this data on a bar graph"
   ]
  },
  {
   "cell_type": "code",
   "execution_count": 285,
   "metadata": {},
   "outputs": [
    {
     "data": {
      "text/plain": [
       "<matplotlib.axes._subplots.AxesSubplot at 0x7919a0cfc198>"
      ]
     },
     "execution_count": 285,
     "metadata": {},
     "output_type": "execute_result"
    },
    {
     "data": {
      "image/png": "[encoded data removed]",
      "text/plain": [
       "<Figure size 432x288 with 1 Axes>"
      ]
     },
     "metadata": {
      "needs_background": "light"
     },
     "output_type": "display_data"
    }
   ],
   "source": [
    "(dat.\n",
    " query('drug_indication==\"ASTHMA\"').\n",
    " loc[:,['safetyreportid',\"age\"]].\n",
    " drop_duplicates().\n",
    " age.\n",
    " hist()\n",
    ")"
   ]
  },
  {
   "cell_type": "code",
   "execution_count": 286,
   "metadata": {},
   "outputs": [
    {
     "data": {
      "text/plain": [
       "count    100000.000000\n",
       "mean         11.863215\n",
       "std           6.568330\n",
       "min           0.000114\n",
       "25%           6.000000\n",
       "50%          13.000000\n",
       "75%          17.000000\n",
       "max          21.000000\n",
       "Name: age, dtype: float64"
      ]
     },
     "execution_count": 286,
     "metadata": {},
     "output_type": "execute_result"
    }
   ],
   "source": [
    "dat.age.describe()"
   ]
  },
  {
   "cell_type": "markdown",
   "metadata": {},
   "source": [
    "## For all of the patients who had asthma what were the reported reactions?"
   ]
  },
  {
   "cell_type": "code",
   "execution_count": 287,
   "metadata": {},
   "outputs": [],
   "source": [
    "# Humanized Algoirthm\n",
    "# Locate \"ASTHMA\" in the \"drug indication\" variable\n",
    "# Extract \"drug indication\", \"safetyreportid\",\"meddraconceptname\" from the data\n",
    "# Get rid of all the duplicates \n",
    "# Have the data grouped by the \"meddraconceptname\"\n",
    "# Count all the number of \"safetyreportid\"\n",
    "# Plot this data on a bar graph"
   ]
  },
  {
   "cell_type": "code",
   "execution_count": 288,
   "metadata": {},
   "outputs": [
    {
     "data": {
      "text/plain": [
       "<matplotlib.axes._subplots.AxesSubplot at 0x7919a0ca1da0>"
      ]
     },
     "execution_count": 288,
     "metadata": {},
     "output_type": "execute_result"
    },
    {
     "data": {
      "image/png": "[encoded data removed]",
      "text/plain": [
       "<Figure size 432x288 with 1 Axes>"
      ]
     },
     "metadata": {
      "needs_background": "light"
     },
     "output_type": "display_data"
    }
   ],
   "source": [
    "(dat.\n",
    " query('drug_indication==\"ASTHMA\"').\n",
    " loc[:,['safetyreportid',\"meddra_concept_name\"]].\n",
    " drop_duplicates().\n",
    " groupby(\"meddra_concept_name\").\n",
    " count().\n",
    " sort_values(\"safetyreportid\", ascending= False).\n",
    " head(20).\n",
    " plot.barh()\n",
    ")"
   ]
  },
  {
   "cell_type": "markdown",
   "metadata": {},
   "source": [
    "We observed that the reaction with the most reports was also the drug indication. We then infered that if the reaction and the drug indication are the same this could be a result of a drug that does not work. Additionally, it could be that the original drug indication was exacerbated in some way."
   ]
  },
  {
   "cell_type": "markdown",
   "metadata": {},
   "source": [
    "## Which drugs have the same indication as the reaction?"
   ]
  },
  {
   "cell_type": "code",
   "execution_count": 289,
   "metadata": {},
   "outputs": [],
   "source": [
    "# Humanized Algorithm\n",
    "# Extracting \"drug indication\", \"meddra_concept_name\", \"safteyreportid\", \"atc_concept_name\"\n",
    "# Drop all duplicates\n",
    "# Discover if indication is the same as reaction --> set as equal\n",
    "# gr"
   ]
  },
  {
   "cell_type": "code",
   "execution_count": 290,
   "metadata": {},
   "outputs": [
    {
     "data": {
      "text/html": [
       "<div>\n",
       "<style scoped>\n",
       "    .dataframe tbody tr th:only-of-type {\n",
       "        vertical-align: middle;\n",
       "    }\n",
       "\n",
       "    .dataframe tbody tr th {\n",
       "        vertical-align: top;\n",
       "    }\n",
       "\n",
       "    .dataframe thead th {\n",
       "        text-align: right;\n",
       "    }\n",
       "</style>\n",
       "<table border=\"1\" class=\"dataframe\">\n",
       "  <thead>\n",
       "    <tr style=\"text-align: right;\">\n",
       "      <th></th>\n",
       "      <th>drug_indication</th>\n",
       "      <th>safetyreportid</th>\n",
       "      <th>atc_concept_name</th>\n",
       "      <th>meddra_concept_name</th>\n",
       "    </tr>\n",
       "  </thead>\n",
       "  <tbody>\n",
       "    <tr>\n",
       "      <th>1</th>\n",
       "      <td>GONADAL DYSGENESIS</td>\n",
       "      <td>10040842</td>\n",
       "      <td>sodium fluoride</td>\n",
       "      <td>Abnormal Behaviour</td>\n",
       "    </tr>\n",
       "    <tr>\n",
       "      <th>3</th>\n",
       "      <td>GONADAL DYSGENESIS</td>\n",
       "      <td>10040842</td>\n",
       "      <td>sodium fluoride</td>\n",
       "      <td>Vision Blurred</td>\n",
       "    </tr>\n",
       "    <tr>\n",
       "      <th>5</th>\n",
       "      <td>ASTHMA</td>\n",
       "      <td>10298142</td>\n",
       "      <td>sodium fluoride</td>\n",
       "      <td>Drug Administration Error</td>\n",
       "    </tr>\n",
       "    <tr>\n",
       "      <th>7</th>\n",
       "      <td>ASTHMA</td>\n",
       "      <td>10298142</td>\n",
       "      <td>sodium fluoride</td>\n",
       "      <td>Insomnia</td>\n",
       "    </tr>\n",
       "    <tr>\n",
       "      <th>8</th>\n",
       "      <td>ASTHMA</td>\n",
       "      <td>10413313</td>\n",
       "      <td>sodium fluoride</td>\n",
       "      <td>Drug Ineffective</td>\n",
       "    </tr>\n",
       "    <tr>\n",
       "      <th>...</th>\n",
       "      <td>...</td>\n",
       "      <td>...</td>\n",
       "      <td>...</td>\n",
       "      <td>...</td>\n",
       "    </tr>\n",
       "    <tr>\n",
       "      <th>196165</th>\n",
       "      <td>CYSTIC FIBROSIS</td>\n",
       "      <td>13455410</td>\n",
       "      <td>omeprazole</td>\n",
       "      <td>Viral Upper Respiratory Tract Infection</td>\n",
       "    </tr>\n",
       "    <tr>\n",
       "      <th>196167</th>\n",
       "      <td>COUGH</td>\n",
       "      <td>13455410</td>\n",
       "      <td>omeprazole</td>\n",
       "      <td>Viral Upper Respiratory Tract Infection</td>\n",
       "    </tr>\n",
       "    <tr>\n",
       "      <th>196169</th>\n",
       "      <td>WHEEZING</td>\n",
       "      <td>13455410</td>\n",
       "      <td>omeprazole</td>\n",
       "      <td>Viral Upper Respiratory Tract Infection</td>\n",
       "    </tr>\n",
       "    <tr>\n",
       "      <th>196171</th>\n",
       "      <td>BACTERIAL DISEASE CARRIER</td>\n",
       "      <td>13455410</td>\n",
       "      <td>omeprazole</td>\n",
       "      <td>Viral Upper Respiratory Tract Infection</td>\n",
       "    </tr>\n",
       "    <tr>\n",
       "      <th>196172</th>\n",
       "      <td>PAIN</td>\n",
       "      <td>13456097</td>\n",
       "      <td>omeprazole</td>\n",
       "      <td>Stevens-Johnson Syndrome</td>\n",
       "    </tr>\n",
       "  </tbody>\n",
       "</table>\n",
       "<p>100000 rows × 4 columns</p>\n",
       "</div>"
      ],
      "text/plain": [
       "                  drug_indication safetyreportid atc_concept_name  \\\n",
       "1              GONADAL DYSGENESIS       10040842  sodium fluoride   \n",
       "3              GONADAL DYSGENESIS       10040842  sodium fluoride   \n",
       "5                          ASTHMA       10298142  sodium fluoride   \n",
       "7                          ASTHMA       10298142  sodium fluoride   \n",
       "8                          ASTHMA       10413313  sodium fluoride   \n",
       "...                           ...            ...              ...   \n",
       "196165            CYSTIC FIBROSIS       13455410       omeprazole   \n",
       "196167                      COUGH       13455410       omeprazole   \n",
       "196169                   WHEEZING       13455410       omeprazole   \n",
       "196171  BACTERIAL DISEASE CARRIER       13455410       omeprazole   \n",
       "196172                       PAIN       13456097       omeprazole   \n",
       "\n",
       "                            meddra_concept_name  \n",
       "1                            Abnormal Behaviour  \n",
       "3                                Vision Blurred  \n",
       "5                     Drug Administration Error  \n",
       "7                                      Insomnia  \n",
       "8                              Drug Ineffective  \n",
       "...                                         ...  \n",
       "196165  Viral Upper Respiratory Tract Infection  \n",
       "196167  Viral Upper Respiratory Tract Infection  \n",
       "196169  Viral Upper Respiratory Tract Infection  \n",
       "196171  Viral Upper Respiratory Tract Infection  \n",
       "196172                 Stevens-Johnson Syndrome  \n",
       "\n",
       "[100000 rows x 4 columns]"
      ]
     },
     "execution_count": 290,
     "metadata": {},
     "output_type": "execute_result"
    }
   ],
   "source": [
    "sub = \\\n",
    "(dat.\n",
    "loc[:,[\"drug_indication\",\"safetyreportid\",\"atc_concept_name\", \"meddra_concept_name\"]].\n",
    "drop_duplicates()\n",
    ")\n",
    "sub"
   ]
  },
  {
   "cell_type": "code",
   "execution_count": 291,
   "metadata": {},
   "outputs": [
    {
     "data": {
      "text/plain": [
       "1                Gonadal Dysgenesis\n",
       "3                Gonadal Dysgenesis\n",
       "5                            Asthma\n",
       "7                            Asthma\n",
       "8                            Asthma\n",
       "                    ...            \n",
       "196165              Cystic Fibrosis\n",
       "196167                        Cough\n",
       "196169                     Wheezing\n",
       "196171    Bacterial Disease Carrier\n",
       "196172                         Pain\n",
       "Name: drug_indication, Length: 100000, dtype: object"
      ]
     },
     "execution_count": 291,
     "metadata": {},
     "output_type": "execute_result"
    }
   ],
   "source": [
    "sub['drug_indication'].str.title()"
   ]
  },
  {
   "cell_type": "code",
   "execution_count": 292,
   "metadata": {},
   "outputs": [
    {
     "data": {
      "text/plain": [
       "array(['sodium fluoride', 'stannous fluoride', 'hydrogen peroxide',\n",
       "       'chlorhexidine', 'miconazole', 'triamcinolone',\n",
       "       'aluminium hydroxide', 'cimetidine', 'ranitidine', 'famotidine',\n",
       "       'misoprostol', 'omeprazole'], dtype=object)"
      ]
     },
     "execution_count": 292,
     "metadata": {},
     "output_type": "execute_result"
    }
   ],
   "source": [
    "(sub[\n",
    "    (sub['meddra_concept_name'].str.title()==sub['drug_indication'].str.title())\n",
    "].atc_concept_name.unique())"
   ]
  },
  {
   "cell_type": "markdown",
   "metadata": {},
   "source": [
    "## How many reports are there for drugs that have the same reactions as indications?"
   ]
  },
  {
   "cell_type": "code",
   "execution_count": 293,
   "metadata": {},
   "outputs": [],
   "source": [
    "# Humanized Algorithm\n",
    "# Extract \"safetyreportid\", \"meddra_concept_name\", \"drug_indication\", \"atc_concept_name\"\n",
    "# Drop duplicates\n",
    "# Save in the sub\n",
    "# For the \"meddra_concept_name\" and \"drug_indication\" convert the names to title case\n",
    "# Check equality of the two variables above\n",
    "# Downgrade the resulting boolean values to integers\n",
    "# Insert the above values into a new variable called equal\n",
    "# groupby drugs\n",
    "# Sum the equal variable"
   ]
  },
  {
   "cell_type": "code",
   "execution_count": 294,
   "metadata": {},
   "outputs": [
    {
     "data": {
      "text/html": [
       "<div>\n",
       "<style scoped>\n",
       "    .dataframe tbody tr th:only-of-type {\n",
       "        vertical-align: middle;\n",
       "    }\n",
       "\n",
       "    .dataframe tbody tr th {\n",
       "        vertical-align: top;\n",
       "    }\n",
       "\n",
       "    .dataframe thead th {\n",
       "        text-align: right;\n",
       "    }\n",
       "</style>\n",
       "<table border=\"1\" class=\"dataframe\">\n",
       "  <thead>\n",
       "    <tr style=\"text-align: right;\">\n",
       "      <th></th>\n",
       "      <th>drug_indication</th>\n",
       "      <th>safetyreportid</th>\n",
       "      <th>atc_concept_name</th>\n",
       "      <th>meddra_concept_name</th>\n",
       "    </tr>\n",
       "  </thead>\n",
       "  <tbody>\n",
       "    <tr>\n",
       "      <th>1</th>\n",
       "      <td>GONADAL DYSGENESIS</td>\n",
       "      <td>10040842</td>\n",
       "      <td>sodium fluoride</td>\n",
       "      <td>Abnormal Behaviour</td>\n",
       "    </tr>\n",
       "    <tr>\n",
       "      <th>3</th>\n",
       "      <td>GONADAL DYSGENESIS</td>\n",
       "      <td>10040842</td>\n",
       "      <td>sodium fluoride</td>\n",
       "      <td>Vision Blurred</td>\n",
       "    </tr>\n",
       "    <tr>\n",
       "      <th>5</th>\n",
       "      <td>ASTHMA</td>\n",
       "      <td>10298142</td>\n",
       "      <td>sodium fluoride</td>\n",
       "      <td>Drug Administration Error</td>\n",
       "    </tr>\n",
       "    <tr>\n",
       "      <th>7</th>\n",
       "      <td>ASTHMA</td>\n",
       "      <td>10298142</td>\n",
       "      <td>sodium fluoride</td>\n",
       "      <td>Insomnia</td>\n",
       "    </tr>\n",
       "    <tr>\n",
       "      <th>8</th>\n",
       "      <td>ASTHMA</td>\n",
       "      <td>10413313</td>\n",
       "      <td>sodium fluoride</td>\n",
       "      <td>Drug Ineffective</td>\n",
       "    </tr>\n",
       "  </tbody>\n",
       "</table>\n",
       "</div>"
      ],
      "text/plain": [
       "      drug_indication safetyreportid atc_concept_name  \\\n",
       "1  GONADAL DYSGENESIS       10040842  sodium fluoride   \n",
       "3  GONADAL DYSGENESIS       10040842  sodium fluoride   \n",
       "5              ASTHMA       10298142  sodium fluoride   \n",
       "7              ASTHMA       10298142  sodium fluoride   \n",
       "8              ASTHMA       10413313  sodium fluoride   \n",
       "\n",
       "         meddra_concept_name  \n",
       "1         Abnormal Behaviour  \n",
       "3             Vision Blurred  \n",
       "5  Drug Administration Error  \n",
       "7                   Insomnia  \n",
       "8           Drug Ineffective  "
      ]
     },
     "execution_count": 294,
     "metadata": {},
     "output_type": "execute_result"
    }
   ],
   "source": [
    "sub = \\\n",
    "(dat.\n",
    "loc[:,[\"drug_indication\",\"safetyreportid\",\"atc_concept_name\", \"meddra_concept_name\"]].\n",
    "drop_duplicates()\n",
    ")\n",
    "sub.head()"
   ]
  },
  {
   "cell_type": "code",
   "execution_count": 295,
   "metadata": {},
   "outputs": [],
   "source": [
    "sub.loc[:,\"meddra_concept_name\"] = sub.loc[:,\"meddra_concept_name\"].str.title()"
   ]
  },
  {
   "cell_type": "code",
   "execution_count": 296,
   "metadata": {},
   "outputs": [],
   "source": [
    "sub.loc[:,\"drug_indication\"] = sub.loc[:,\"drug_indication\"].str.title()"
   ]
  },
  {
   "cell_type": "code",
   "execution_count": 297,
   "metadata": {},
   "outputs": [],
   "source": [
    "equal = (sub.loc[:,\"meddra_concept_name\"] == sub.loc[:,\"drug_indication\"]).astype(int)"
   ]
  },
  {
   "cell_type": "code",
   "execution_count": 298,
   "metadata": {},
   "outputs": [],
   "source": [
    "sub.loc[:,\"equal\"] = equal"
   ]
  },
  {
   "cell_type": "code",
   "execution_count": 299,
   "metadata": {},
   "outputs": [
    {
     "data": {
      "text/html": [
       "<div>\n",
       "<style scoped>\n",
       "    .dataframe tbody tr th:only-of-type {\n",
       "        vertical-align: middle;\n",
       "    }\n",
       "\n",
       "    .dataframe tbody tr th {\n",
       "        vertical-align: top;\n",
       "    }\n",
       "\n",
       "    .dataframe thead th {\n",
       "        text-align: right;\n",
       "    }\n",
       "</style>\n",
       "<table border=\"1\" class=\"dataframe\">\n",
       "  <thead>\n",
       "    <tr style=\"text-align: right;\">\n",
       "      <th></th>\n",
       "      <th>drug_indication</th>\n",
       "      <th>safetyreportid</th>\n",
       "      <th>atc_concept_name</th>\n",
       "      <th>meddra_concept_name</th>\n",
       "      <th>equal</th>\n",
       "    </tr>\n",
       "  </thead>\n",
       "  <tbody>\n",
       "    <tr>\n",
       "      <th>1</th>\n",
       "      <td>Gonadal Dysgenesis</td>\n",
       "      <td>10040842</td>\n",
       "      <td>sodium fluoride</td>\n",
       "      <td>Abnormal Behaviour</td>\n",
       "      <td>0</td>\n",
       "    </tr>\n",
       "    <tr>\n",
       "      <th>3</th>\n",
       "      <td>Gonadal Dysgenesis</td>\n",
       "      <td>10040842</td>\n",
       "      <td>sodium fluoride</td>\n",
       "      <td>Vision Blurred</td>\n",
       "      <td>0</td>\n",
       "    </tr>\n",
       "    <tr>\n",
       "      <th>5</th>\n",
       "      <td>Asthma</td>\n",
       "      <td>10298142</td>\n",
       "      <td>sodium fluoride</td>\n",
       "      <td>Drug Administration Error</td>\n",
       "      <td>0</td>\n",
       "    </tr>\n",
       "    <tr>\n",
       "      <th>7</th>\n",
       "      <td>Asthma</td>\n",
       "      <td>10298142</td>\n",
       "      <td>sodium fluoride</td>\n",
       "      <td>Insomnia</td>\n",
       "      <td>0</td>\n",
       "    </tr>\n",
       "    <tr>\n",
       "      <th>8</th>\n",
       "      <td>Asthma</td>\n",
       "      <td>10413313</td>\n",
       "      <td>sodium fluoride</td>\n",
       "      <td>Drug Ineffective</td>\n",
       "      <td>0</td>\n",
       "    </tr>\n",
       "  </tbody>\n",
       "</table>\n",
       "</div>"
      ],
      "text/plain": [
       "      drug_indication safetyreportid atc_concept_name  \\\n",
       "1  Gonadal Dysgenesis       10040842  sodium fluoride   \n",
       "3  Gonadal Dysgenesis       10040842  sodium fluoride   \n",
       "5              Asthma       10298142  sodium fluoride   \n",
       "7              Asthma       10298142  sodium fluoride   \n",
       "8              Asthma       10413313  sodium fluoride   \n",
       "\n",
       "         meddra_concept_name  equal  \n",
       "1         Abnormal Behaviour      0  \n",
       "3             Vision Blurred      0  \n",
       "5  Drug Administration Error      0  \n",
       "7                   Insomnia      0  \n",
       "8           Drug Ineffective      0  "
      ]
     },
     "execution_count": 299,
     "metadata": {},
     "output_type": "execute_result"
    }
   ],
   "source": [
    "sub.head()"
   ]
  },
  {
   "cell_type": "code",
   "execution_count": 300,
   "metadata": {},
   "outputs": [
    {
     "data": {
      "text/plain": [
       "pandas.core.frame.DataFrame"
      ]
     },
     "execution_count": 300,
     "metadata": {},
     "output_type": "execute_result"
    }
   ],
   "source": [
    "type(sub.groupby(\"atc_concept_name\").sum())"
   ]
  },
  {
   "cell_type": "code",
   "execution_count": 301,
   "metadata": {},
   "outputs": [
    {
     "data": {
      "text/plain": [
       "atc_concept_name\n",
       "nizatidine               0\n",
       "aluminium hydroxide      2\n",
       "hydrogen peroxide        6\n",
       "miconazole               7\n",
       "sodium fluoride          7\n",
       "stannous fluoride        7\n",
       "cimetidine              12\n",
       "misoprostol             15\n",
       "chlorhexidine           17\n",
       "triamcinolone           22\n",
       "omeprazole             218\n",
       "famotidine             242\n",
       "ranitidine             476\n",
       "Name: equal, dtype: int64"
      ]
     },
     "execution_count": 301,
     "metadata": {},
     "output_type": "execute_result"
    }
   ],
   "source": [
    "sub.groupby(\"atc_concept_name\")['equal'].sum().sort_values()"
   ]
  },
  {
   "cell_type": "code",
   "execution_count": 302,
   "metadata": {},
   "outputs": [],
   "source": [
    "data = {\n",
    "    \"apples\" : [3,2,0,1],\n",
    "    \"oranges\" : [0,3,7,2]\n",
    "}"
   ]
  },
  {
   "cell_type": "code",
   "execution_count": 303,
   "metadata": {},
   "outputs": [
    {
     "data": {
      "text/html": [
       "<div>\n",
       "<style scoped>\n",
       "    .dataframe tbody tr th:only-of-type {\n",
       "        vertical-align: middle;\n",
       "    }\n",
       "\n",
       "    .dataframe tbody tr th {\n",
       "        vertical-align: top;\n",
       "    }\n",
       "\n",
       "    .dataframe thead th {\n",
       "        text-align: right;\n",
       "    }\n",
       "</style>\n",
       "<table border=\"1\" class=\"dataframe\">\n",
       "  <thead>\n",
       "    <tr style=\"text-align: right;\">\n",
       "      <th></th>\n",
       "      <th>apples</th>\n",
       "      <th>oranges</th>\n",
       "    </tr>\n",
       "  </thead>\n",
       "  <tbody>\n",
       "    <tr>\n",
       "      <th>0</th>\n",
       "      <td>3</td>\n",
       "      <td>0</td>\n",
       "    </tr>\n",
       "    <tr>\n",
       "      <th>1</th>\n",
       "      <td>2</td>\n",
       "      <td>3</td>\n",
       "    </tr>\n",
       "    <tr>\n",
       "      <th>2</th>\n",
       "      <td>0</td>\n",
       "      <td>7</td>\n",
       "    </tr>\n",
       "    <tr>\n",
       "      <th>3</th>\n",
       "      <td>1</td>\n",
       "      <td>2</td>\n",
       "    </tr>\n",
       "  </tbody>\n",
       "</table>\n",
       "</div>"
      ],
      "text/plain": [
       "   apples  oranges\n",
       "0       3        0\n",
       "1       2        3\n",
       "2       0        7\n",
       "3       1        2"
      ]
     },
     "execution_count": 303,
     "metadata": {},
     "output_type": "execute_result"
    }
   ],
   "source": [
    "purchases = pd.DataFrame(data)\n",
    "purchases"
   ]
  },
  {
   "cell_type": "code",
   "execution_count": 304,
   "metadata": {},
   "outputs": [
    {
     "data": {
      "text/html": [
       "<div>\n",
       "<style scoped>\n",
       "    .dataframe tbody tr th:only-of-type {\n",
       "        vertical-align: middle;\n",
       "    }\n",
       "\n",
       "    .dataframe tbody tr th {\n",
       "        vertical-align: top;\n",
       "    }\n",
       "\n",
       "    .dataframe thead th {\n",
       "        text-align: right;\n",
       "    }\n",
       "</style>\n",
       "<table border=\"1\" class=\"dataframe\">\n",
       "  <thead>\n",
       "    <tr style=\"text-align: right;\">\n",
       "      <th></th>\n",
       "      <th>apples</th>\n",
       "      <th>oranges</th>\n",
       "    </tr>\n",
       "  </thead>\n",
       "  <tbody>\n",
       "    <tr>\n",
       "      <th>June</th>\n",
       "      <td>3</td>\n",
       "      <td>0</td>\n",
       "    </tr>\n",
       "    <tr>\n",
       "      <th>Robert</th>\n",
       "      <td>2</td>\n",
       "      <td>3</td>\n",
       "    </tr>\n",
       "    <tr>\n",
       "      <th>Lily</th>\n",
       "      <td>0</td>\n",
       "      <td>7</td>\n",
       "    </tr>\n",
       "    <tr>\n",
       "      <th>David</th>\n",
       "      <td>1</td>\n",
       "      <td>2</td>\n",
       "    </tr>\n",
       "  </tbody>\n",
       "</table>\n",
       "</div>"
      ],
      "text/plain": [
       "        apples  oranges\n",
       "June         3        0\n",
       "Robert       2        3\n",
       "Lily         0        7\n",
       "David        1        2"
      ]
     },
     "execution_count": 304,
     "metadata": {},
     "output_type": "execute_result"
    }
   ],
   "source": [
    "purchases = pd.DataFrame(data, index= [\"June\", \"Robert\", \"Lily\", \"David\"])\n",
    "purchases"
   ]
  },
  {
   "cell_type": "code",
   "execution_count": 305,
   "metadata": {},
   "outputs": [
    {
     "data": {
      "text/plain": [
       "apples     3\n",
       "oranges    0\n",
       "Name: June, dtype: int64"
      ]
     },
     "execution_count": 305,
     "metadata": {},
     "output_type": "execute_result"
    }
   ],
   "source": [
    "purchases.loc[\"June\"]"
   ]
  },
  {
   "cell_type": "code",
   "execution_count": 306,
   "metadata": {},
   "outputs": [
    {
     "name": "stdout",
     "output_type": "stream",
     "text": [
      "<class 'pandas.core.frame.DataFrame'>\n",
      "Index: 4 entries, June to David\n",
      "Data columns (total 2 columns):\n",
      "apples     4 non-null int64\n",
      "oranges    4 non-null int64\n",
      "dtypes: int64(2)\n",
      "memory usage: 256.0+ bytes\n"
     ]
    }
   ],
   "source": [
    "purchases.info()"
   ]
  },
  {
   "cell_type": "code",
   "execution_count": 307,
   "metadata": {},
   "outputs": [
    {
     "data": {
      "text/plain": [
       "apples      6\n",
       "oranges    12\n",
       "dtype: int64"
      ]
     },
     "execution_count": 307,
     "metadata": {},
     "output_type": "execute_result"
    }
   ],
   "source": [
    "purchases.sum()"
   ]
  },
  {
   "cell_type": "code",
   "execution_count": 308,
   "metadata": {},
   "outputs": [
    {
     "data": {
      "text/html": [
       "<div>\n",
       "<style scoped>\n",
       "    .dataframe tbody tr th:only-of-type {\n",
       "        vertical-align: middle;\n",
       "    }\n",
       "\n",
       "    .dataframe tbody tr th {\n",
       "        vertical-align: top;\n",
       "    }\n",
       "\n",
       "    .dataframe thead th {\n",
       "        text-align: right;\n",
       "    }\n",
       "</style>\n",
       "<table border=\"1\" class=\"dataframe\">\n",
       "  <thead>\n",
       "    <tr style=\"text-align: right;\">\n",
       "      <th></th>\n",
       "      <th>apples</th>\n",
       "      <th>oranges</th>\n",
       "    </tr>\n",
       "  </thead>\n",
       "  <tbody>\n",
       "    <tr>\n",
       "      <th>count</th>\n",
       "      <td>4.000000</td>\n",
       "      <td>4.00000</td>\n",
       "    </tr>\n",
       "    <tr>\n",
       "      <th>mean</th>\n",
       "      <td>1.500000</td>\n",
       "      <td>3.00000</td>\n",
       "    </tr>\n",
       "    <tr>\n",
       "      <th>std</th>\n",
       "      <td>1.290994</td>\n",
       "      <td>2.94392</td>\n",
       "    </tr>\n",
       "    <tr>\n",
       "      <th>min</th>\n",
       "      <td>0.000000</td>\n",
       "      <td>0.00000</td>\n",
       "    </tr>\n",
       "    <tr>\n",
       "      <th>25%</th>\n",
       "      <td>0.750000</td>\n",
       "      <td>1.50000</td>\n",
       "    </tr>\n",
       "    <tr>\n",
       "      <th>50%</th>\n",
       "      <td>1.500000</td>\n",
       "      <td>2.50000</td>\n",
       "    </tr>\n",
       "    <tr>\n",
       "      <th>75%</th>\n",
       "      <td>2.250000</td>\n",
       "      <td>4.00000</td>\n",
       "    </tr>\n",
       "    <tr>\n",
       "      <th>max</th>\n",
       "      <td>3.000000</td>\n",
       "      <td>7.00000</td>\n",
       "    </tr>\n",
       "  </tbody>\n",
       "</table>\n",
       "</div>"
      ],
      "text/plain": [
       "         apples  oranges\n",
       "count  4.000000  4.00000\n",
       "mean   1.500000  3.00000\n",
       "std    1.290994  2.94392\n",
       "min    0.000000  0.00000\n",
       "25%    0.750000  1.50000\n",
       "50%    1.500000  2.50000\n",
       "75%    2.250000  4.00000\n",
       "max    3.000000  7.00000"
      ]
     },
     "execution_count": 308,
     "metadata": {},
     "output_type": "execute_result"
    }
   ],
   "source": [
    "purchases.describe()"
   ]
  },
  {
   "cell_type": "markdown",
   "metadata": {},
   "source": [
    "Using describe() on an entire DataFrame we can get a summary of the distribution of continuous variables"
   ]
  },
  {
   "cell_type": "code",
   "execution_count": 309,
   "metadata": {},
   "outputs": [
    {
     "data": {
      "text/plain": [
       "June      False\n",
       "Robert    False\n",
       "Lily      False\n",
       "David     False\n",
       "Name: apples, dtype: bool"
      ]
     },
     "execution_count": 309,
     "metadata": {},
     "output_type": "execute_result"
    }
   ],
   "source": [
    "condition = (purchases[\"apples\"] == \"oranges\")\n",
    "condition.head()"
   ]
  },
  {
   "cell_type": "code",
   "execution_count": 310,
   "metadata": {},
   "outputs": [
    {
     "data": {
      "text/plain": [
       "<matplotlib.axes._subplots.AxesSubplot at 0x79199f768b38>"
      ]
     },
     "execution_count": 310,
     "metadata": {},
     "output_type": "execute_result"
    },
    {
     "data": {
      "image/png": "[encoded data removed]",
      "text/plain": [
       "<Figure size 432x288 with 1 Axes>"
      ]
     },
     "metadata": {
      "needs_background": "light"
     },
     "output_type": "display_data"
    }
   ],
   "source": [
    "purchases[\"apples\"].plot(kind=\"hist\", title= \"Fruits\")"
   ]
  },
  {
   "cell_type": "code",
   "execution_count": 311,
   "metadata": {},
   "outputs": [
    {
     "data": {
      "text/plain": [
       "<matplotlib.axes._subplots.AxesSubplot at 0x79199f7332b0>"
      ]
     },
     "execution_count": 311,
     "metadata": {},
     "output_type": "execute_result"
    },
    {
     "data": {
      "image/png": "[encoded data removed]",
      "text/plain": [
       "<Figure size 432x288 with 1 Axes>"
      ]
     },
     "metadata": {
      "needs_background": "light"
     },
     "output_type": "display_data"
    }
   ],
   "source": [
    "purchases[\"apples\"].plot(kind=\"box\", title= \"Fruits\")"
   ]
  },
  {
   "cell_type": "code",
   "execution_count": 312,
   "metadata": {},
   "outputs": [
    {
     "data": {
      "text/plain": [
       "0                7\n",
       "1       Heisenberg\n",
       "2             3.14\n",
       "3      -1789710578\n",
       "4    Happy Eating!\n",
       "dtype: object"
      ]
     },
     "execution_count": 312,
     "metadata": {},
     "output_type": "execute_result"
    }
   ],
   "source": [
    "# create a Series with an arbitrary list\n",
    "s = pd.Series([7, 'Heisenberg', 3.14, -1789710578, 'Happy Eating!'])\n",
    "s"
   ]
  },
  {
   "cell_type": "code",
   "execution_count": 313,
   "metadata": {},
   "outputs": [
    {
     "data": {
      "text/plain": [
       "A                7\n",
       "Z       Heisenberg\n",
       "C             3.14\n",
       "Y      -1789710578\n",
       "E    Happy Eating!\n",
       "dtype: object"
      ]
     },
     "execution_count": 313,
     "metadata": {},
     "output_type": "execute_result"
    }
   ],
   "source": [
    "s = pd.Series([7, 'Heisenberg', 3.14, -1789710578, 'Happy Eating!'],\n",
    "    index=['A', 'Z', 'C', 'Y', 'E'])\n",
    "s"
   ]
  },
  {
   "cell_type": "code",
   "execution_count": 314,
   "metadata": {},
   "outputs": [
    {
     "data": {
      "text/plain": [
       "Austin            450.0\n",
       "Boston              NaN\n",
       "Chicago          1000.0\n",
       "New York         1300.0\n",
       "Portland          900.0\n",
       "San Francisco    1100.0\n",
       "dtype: float64"
      ]
     },
     "execution_count": 314,
     "metadata": {},
     "output_type": "execute_result"
    }
   ],
   "source": [
    "d = {'Chicago': 1000, 'New York': 1300, 'Portland': 900, 'San Francisco': 1100,\n",
    "     'Austin': 450, 'Boston': None}\n",
    "cities = pd.Series(d)\n",
    "cities"
   ]
  },
  {
   "cell_type": "code",
   "execution_count": 315,
   "metadata": {},
   "outputs": [
    {
     "data": {
      "text/plain": [
       "1000.0"
      ]
     },
     "execution_count": 315,
     "metadata": {},
     "output_type": "execute_result"
    }
   ],
   "source": [
    "cities['Chicago']"
   ]
  },
  {
   "cell_type": "code",
   "execution_count": 316,
   "metadata": {},
   "outputs": [
    {
     "data": {
      "text/plain": [
       "Chicago          1000.0\n",
       "Portland          900.0\n",
       "San Francisco    1100.0\n",
       "dtype: float64"
      ]
     },
     "execution_count": 316,
     "metadata": {},
     "output_type": "execute_result"
    }
   ],
   "source": [
    "cities[['Chicago', 'Portland', 'San Francisco']]"
   ]
  },
  {
   "cell_type": "code",
   "execution_count": 317,
   "metadata": {},
   "outputs": [
    {
     "data": {
      "text/plain": [
       "Austin      450.0\n",
       "Portland    900.0\n",
       "dtype: float64"
      ]
     },
     "execution_count": 317,
     "metadata": {},
     "output_type": "execute_result"
    }
   ],
   "source": [
    "cities[cities<1000]"
   ]
  },
  {
   "cell_type": "code",
   "execution_count": 318,
   "metadata": {},
   "outputs": [
    {
     "name": "stdout",
     "output_type": "stream",
     "text": [
      "Austin            True\n",
      "Boston           False\n",
      "Chicago          False\n",
      "New York         False\n",
      "Portland          True\n",
      "San Francisco    False\n",
      "dtype: bool\n",
      "\n",
      "\n",
      "Austin      450.0\n",
      "Portland    900.0\n",
      "dtype: float64\n"
     ]
    }
   ],
   "source": [
    "less_than_1000 = cities < 1000\n",
    "print(less_than_1000)\n",
    "print(\"\\n\")\n",
    "print(cities[less_than_1000])"
   ]
  },
  {
   "cell_type": "code",
   "execution_count": 319,
   "metadata": {},
   "outputs": [
    {
     "name": "stdout",
     "output_type": "stream",
     "text": [
      "Old value: 1000.0\n",
      "New value: 1400.0\n"
     ]
    }
   ],
   "source": [
    "# Changing values based on the index\n",
    "print('Old value:', cities['Chicago'])\n",
    "cities['Chicago'] = 1400\n",
    "print('New value:', cities['Chicago'])\n"
   ]
  },
  {
   "cell_type": "code",
   "execution_count": 320,
   "metadata": {},
   "outputs": [
    {
     "name": "stdout",
     "output_type": "stream",
     "text": [
      "Austin      450.0\n",
      "Portland    900.0\n",
      "dtype: float64\n",
      "\n",
      "\n",
      "Austin      750.0\n",
      "Portland    750.0\n",
      "dtype: float64\n"
     ]
    }
   ],
   "source": [
    "# Changing values using boolean logic\n",
    "print(cities[cities < 1000])\n",
    "print('\\n')\n",
    "cities[cities < 1000] = 750\n",
    "\n",
    "print(cities[cities < 1000])"
   ]
  },
  {
   "cell_type": "code",
   "execution_count": 321,
   "metadata": {},
   "outputs": [
    {
     "name": "stdout",
     "output_type": "stream",
     "text": [
      "False\n",
      "True\n"
     ]
    }
   ],
   "source": [
    "print('Seattle' in cities)\n",
    "print('San Francisco' in cities)"
   ]
  },
  {
   "cell_type": "code",
   "execution_count": 322,
   "metadata": {},
   "outputs": [
    {
     "data": {
      "text/plain": [
       "Austin           250.000000\n",
       "Boston                  NaN\n",
       "Chicago          466.666667\n",
       "New York         433.333333\n",
       "Portland         250.000000\n",
       "San Francisco    366.666667\n",
       "dtype: float64"
      ]
     },
     "execution_count": 322,
     "metadata": {},
     "output_type": "execute_result"
    }
   ],
   "source": [
    "# divide city values by 3\n",
    "cities / 3"
   ]
  },
  {
   "cell_type": "code",
   "execution_count": 323,
   "metadata": {},
   "outputs": [
    {
     "data": {
      "text/plain": [
       "Austin            562500.0\n",
       "Boston                 NaN\n",
       "Chicago          1960000.0\n",
       "New York         1690000.0\n",
       "Portland          562500.0\n",
       "San Francisco    1210000.0\n",
       "dtype: float64"
      ]
     },
     "execution_count": 323,
     "metadata": {},
     "output_type": "execute_result"
    }
   ],
   "source": [
    "#square city values\n",
    "np.square(cities)"
   ]
  },
  {
   "cell_type": "code",
   "execution_count": 324,
   "metadata": {},
   "outputs": [
    {
     "name": "stdout",
     "output_type": "stream",
     "text": [
      "\n",
      "\n",
      "\n",
      "\n",
      "\n"
     ]
    }
   ],
   "source": [
    "print('\\n\\n\\n\\n')"
   ]
  },
  {
   "cell_type": "code",
   "execution_count": 325,
   "metadata": {},
   "outputs": [
    {
     "name": "stdout",
     "output_type": "stream",
     "text": [
      "Chicago     1400.0\n",
      "New York    1300.0\n",
      "Portland     750.0\n",
      "dtype: float64\n",
      "\n",
      "\n",
      "Austin       750.0\n",
      "New York    1300.0\n",
      "dtype: float64\n",
      "\n",
      "\n",
      "Austin         NaN\n",
      "Chicago        NaN\n",
      "New York    2600.0\n",
      "Portland       NaN\n",
      "dtype: float64\n"
     ]
    }
   ],
   "source": [
    "print(cities[['Chicago', 'New York', 'Portland']])\n",
    "print('\\n')\n",
    "print(cities[['Austin', 'New York']])\n",
    "print('\\n')\n",
    "print(cities[['Chicago', 'New York', 'Portland']] + cities[['Austin', 'New York']])"
   ]
  },
  {
   "cell_type": "code",
   "execution_count": 326,
   "metadata": {},
   "outputs": [
    {
     "data": {
      "text/plain": [
       "Austin            True\n",
       "Boston           False\n",
       "Chicago           True\n",
       "New York          True\n",
       "Portland          True\n",
       "San Francisco     True\n",
       "dtype: bool"
      ]
     },
     "execution_count": 326,
     "metadata": {},
     "output_type": "execute_result"
    }
   ],
   "source": [
    "# returns a boolean series indicating which values aren't NULL\n",
    "cities.notnull()"
   ]
  },
  {
   "cell_type": "code",
   "execution_count": 327,
   "metadata": {},
   "outputs": [
    {
     "name": "stdout",
     "output_type": "stream",
     "text": [
      "Austin           False\n",
      "Boston            True\n",
      "Chicago          False\n",
      "New York         False\n",
      "Portland         False\n",
      "San Francisco    False\n",
      "dtype: bool\n",
      "\n",
      "\n",
      "Boston   NaN\n",
      "dtype: float64\n"
     ]
    }
   ],
   "source": [
    "#use boolean logic to grab the NULL cities\n",
    "print(cities.isnull())\n",
    "print('\\n')\n",
    "print(cities[cities.isnull()])"
   ]
  },
  {
   "cell_type": "code",
   "execution_count": 328,
   "metadata": {},
   "outputs": [
    {
     "data": {
      "text/html": [
       "<div>\n",
       "<style scoped>\n",
       "    .dataframe tbody tr th:only-of-type {\n",
       "        vertical-align: middle;\n",
       "    }\n",
       "\n",
       "    .dataframe tbody tr th {\n",
       "        vertical-align: top;\n",
       "    }\n",
       "\n",
       "    .dataframe thead th {\n",
       "        text-align: right;\n",
       "    }\n",
       "</style>\n",
       "<table border=\"1\" class=\"dataframe\">\n",
       "  <thead>\n",
       "    <tr style=\"text-align: right;\">\n",
       "      <th></th>\n",
       "      <th>year</th>\n",
       "      <th>team</th>\n",
       "      <th>wins</th>\n",
       "      <th>losses</th>\n",
       "    </tr>\n",
       "  </thead>\n",
       "  <tbody>\n",
       "    <tr>\n",
       "      <th>0</th>\n",
       "      <td>2010</td>\n",
       "      <td>Bears</td>\n",
       "      <td>11</td>\n",
       "      <td>5</td>\n",
       "    </tr>\n",
       "    <tr>\n",
       "      <th>1</th>\n",
       "      <td>2011</td>\n",
       "      <td>Bears</td>\n",
       "      <td>8</td>\n",
       "      <td>8</td>\n",
       "    </tr>\n",
       "    <tr>\n",
       "      <th>2</th>\n",
       "      <td>2012</td>\n",
       "      <td>Bears</td>\n",
       "      <td>10</td>\n",
       "      <td>6</td>\n",
       "    </tr>\n",
       "    <tr>\n",
       "      <th>3</th>\n",
       "      <td>2011</td>\n",
       "      <td>Packers</td>\n",
       "      <td>15</td>\n",
       "      <td>1</td>\n",
       "    </tr>\n",
       "    <tr>\n",
       "      <th>4</th>\n",
       "      <td>2012</td>\n",
       "      <td>Packers</td>\n",
       "      <td>11</td>\n",
       "      <td>5</td>\n",
       "    </tr>\n",
       "    <tr>\n",
       "      <th>5</th>\n",
       "      <td>2010</td>\n",
       "      <td>Lions</td>\n",
       "      <td>6</td>\n",
       "      <td>10</td>\n",
       "    </tr>\n",
       "    <tr>\n",
       "      <th>6</th>\n",
       "      <td>2011</td>\n",
       "      <td>Lions</td>\n",
       "      <td>10</td>\n",
       "      <td>6</td>\n",
       "    </tr>\n",
       "    <tr>\n",
       "      <th>7</th>\n",
       "      <td>2012</td>\n",
       "      <td>Lions</td>\n",
       "      <td>4</td>\n",
       "      <td>12</td>\n",
       "    </tr>\n",
       "  </tbody>\n",
       "</table>\n",
       "</div>"
      ],
      "text/plain": [
       "   year     team  wins  losses\n",
       "0  2010    Bears    11       5\n",
       "1  2011    Bears     8       8\n",
       "2  2012    Bears    10       6\n",
       "3  2011  Packers    15       1\n",
       "4  2012  Packers    11       5\n",
       "5  2010    Lions     6      10\n",
       "6  2011    Lions    10       6\n",
       "7  2012    Lions     4      12"
      ]
     },
     "execution_count": 328,
     "metadata": {},
     "output_type": "execute_result"
    }
   ],
   "source": [
    "data = {'year': [2010, 2011, 2012, 2011, 2012, 2010, 2011, 2012],\n",
    "        'team': ['Bears', 'Bears', 'Bears', 'Packers', 'Packers', 'Lions', 'Lions', 'Lions'],\n",
    "        'wins': [11, 8, 10, 15, 11, 6, 10, 4],\n",
    "        'losses': [5, 8, 6, 1, 5, 10, 6, 12]}\n",
    "football = pd.DataFrame(data, columns=['year', 'team', 'wins', 'losses'])\n",
    "football"
   ]
  },
  {
   "cell_type": "markdown",
   "metadata": {},
   "source": [
    "# What is the percentage of reports for a drug, out of all reports for the drug, having the same reactions as the indication?"
   ]
  },
  {
   "cell_type": "code",
   "execution_count": 329,
   "metadata": {},
   "outputs": [],
   "source": [
    "# Humanized Algorithm\n",
    "# Start from previous question's output for \"How many reports are there for drugs that have the same reactions as indications?\"\n",
    "# srore the above as our percent numerator\n",
    "# Gropby drug name and count number of reports  --> store as our percent denominator\n",
    "# Divide the numerator by the denominator, multiply by 100, and sort so by the percentage value"
   ]
  },
  {
   "cell_type": "code",
   "execution_count": 330,
   "metadata": {},
   "outputs": [
    {
     "data": {
      "text/html": [
       "<div>\n",
       "<style scoped>\n",
       "    .dataframe tbody tr th:only-of-type {\n",
       "        vertical-align: middle;\n",
       "    }\n",
       "\n",
       "    .dataframe tbody tr th {\n",
       "        vertical-align: top;\n",
       "    }\n",
       "\n",
       "    .dataframe thead th {\n",
       "        text-align: right;\n",
       "    }\n",
       "</style>\n",
       "<table border=\"1\" class=\"dataframe\">\n",
       "  <thead>\n",
       "    <tr style=\"text-align: right;\">\n",
       "      <th></th>\n",
       "      <th>drug_indication</th>\n",
       "      <th>safetyreportid</th>\n",
       "      <th>atc_concept_name</th>\n",
       "      <th>meddra_concept_name</th>\n",
       "    </tr>\n",
       "  </thead>\n",
       "  <tbody>\n",
       "    <tr>\n",
       "      <th>1</th>\n",
       "      <td>GONADAL DYSGENESIS</td>\n",
       "      <td>10040842</td>\n",
       "      <td>sodium fluoride</td>\n",
       "      <td>Abnormal Behaviour</td>\n",
       "    </tr>\n",
       "    <tr>\n",
       "      <th>3</th>\n",
       "      <td>GONADAL DYSGENESIS</td>\n",
       "      <td>10040842</td>\n",
       "      <td>sodium fluoride</td>\n",
       "      <td>Vision Blurred</td>\n",
       "    </tr>\n",
       "    <tr>\n",
       "      <th>5</th>\n",
       "      <td>ASTHMA</td>\n",
       "      <td>10298142</td>\n",
       "      <td>sodium fluoride</td>\n",
       "      <td>Drug Administration Error</td>\n",
       "    </tr>\n",
       "    <tr>\n",
       "      <th>7</th>\n",
       "      <td>ASTHMA</td>\n",
       "      <td>10298142</td>\n",
       "      <td>sodium fluoride</td>\n",
       "      <td>Insomnia</td>\n",
       "    </tr>\n",
       "    <tr>\n",
       "      <th>8</th>\n",
       "      <td>ASTHMA</td>\n",
       "      <td>10413313</td>\n",
       "      <td>sodium fluoride</td>\n",
       "      <td>Drug Ineffective</td>\n",
       "    </tr>\n",
       "  </tbody>\n",
       "</table>\n",
       "</div>"
      ],
      "text/plain": [
       "      drug_indication safetyreportid atc_concept_name  \\\n",
       "1  GONADAL DYSGENESIS       10040842  sodium fluoride   \n",
       "3  GONADAL DYSGENESIS       10040842  sodium fluoride   \n",
       "5              ASTHMA       10298142  sodium fluoride   \n",
       "7              ASTHMA       10298142  sodium fluoride   \n",
       "8              ASTHMA       10413313  sodium fluoride   \n",
       "\n",
       "         meddra_concept_name  \n",
       "1         Abnormal Behaviour  \n",
       "3             Vision Blurred  \n",
       "5  Drug Administration Error  \n",
       "7                   Insomnia  \n",
       "8           Drug Ineffective  "
      ]
     },
     "execution_count": 330,
     "metadata": {},
     "output_type": "execute_result"
    }
   ],
   "source": [
    "sub = \\\n",
    "(dat.\n",
    "loc[:,[\"drug_indication\",\"safetyreportid\",\"atc_concept_name\", \"meddra_concept_name\"]].\n",
    "drop_duplicates()\n",
    ")\n",
    "sub.head()"
   ]
  },
  {
   "cell_type": "code",
   "execution_count": 331,
   "metadata": {},
   "outputs": [],
   "source": [
    "sub.loc[:,\"meddra_concept_name\"] = sub.loc[:,\"meddra_concept_name\"].str.title()"
   ]
  },
  {
   "cell_type": "code",
   "execution_count": 332,
   "metadata": {},
   "outputs": [],
   "source": [
    "sub.loc[:,\"drug_indication\"] = sub.loc[:,\"drug_indication\"].str.title()"
   ]
  },
  {
   "cell_type": "code",
   "execution_count": 333,
   "metadata": {},
   "outputs": [],
   "source": [
    "equal = (sub.loc[:,\"meddra_concept_name\"] == sub.loc[:,\"drug_indication\"]).astype(int)"
   ]
  },
  {
   "cell_type": "code",
   "execution_count": 334,
   "metadata": {},
   "outputs": [],
   "source": [
    "equal = (sub.loc[:,\"meddra_concept_name\"] == sub.loc[:,\"drug_indication\"]).astype(int)"
   ]
  },
  {
   "cell_type": "code",
   "execution_count": 335,
   "metadata": {},
   "outputs": [],
   "source": [
    "sub.loc[:,\"equal\"] = equal"
   ]
  },
  {
   "cell_type": "code",
   "execution_count": 336,
   "metadata": {},
   "outputs": [
    {
     "data": {
      "text/html": [
       "<div>\n",
       "<style scoped>\n",
       "    .dataframe tbody tr th:only-of-type {\n",
       "        vertical-align: middle;\n",
       "    }\n",
       "\n",
       "    .dataframe tbody tr th {\n",
       "        vertical-align: top;\n",
       "    }\n",
       "\n",
       "    .dataframe thead th {\n",
       "        text-align: right;\n",
       "    }\n",
       "</style>\n",
       "<table border=\"1\" class=\"dataframe\">\n",
       "  <thead>\n",
       "    <tr style=\"text-align: right;\">\n",
       "      <th></th>\n",
       "      <th>drug_indication</th>\n",
       "      <th>safetyreportid</th>\n",
       "      <th>atc_concept_name</th>\n",
       "      <th>meddra_concept_name</th>\n",
       "      <th>equal</th>\n",
       "    </tr>\n",
       "  </thead>\n",
       "  <tbody>\n",
       "    <tr>\n",
       "      <th>1</th>\n",
       "      <td>Gonadal Dysgenesis</td>\n",
       "      <td>10040842</td>\n",
       "      <td>sodium fluoride</td>\n",
       "      <td>Abnormal Behaviour</td>\n",
       "      <td>0</td>\n",
       "    </tr>\n",
       "    <tr>\n",
       "      <th>3</th>\n",
       "      <td>Gonadal Dysgenesis</td>\n",
       "      <td>10040842</td>\n",
       "      <td>sodium fluoride</td>\n",
       "      <td>Vision Blurred</td>\n",
       "      <td>0</td>\n",
       "    </tr>\n",
       "    <tr>\n",
       "      <th>5</th>\n",
       "      <td>Asthma</td>\n",
       "      <td>10298142</td>\n",
       "      <td>sodium fluoride</td>\n",
       "      <td>Drug Administration Error</td>\n",
       "      <td>0</td>\n",
       "    </tr>\n",
       "    <tr>\n",
       "      <th>7</th>\n",
       "      <td>Asthma</td>\n",
       "      <td>10298142</td>\n",
       "      <td>sodium fluoride</td>\n",
       "      <td>Insomnia</td>\n",
       "      <td>0</td>\n",
       "    </tr>\n",
       "    <tr>\n",
       "      <th>8</th>\n",
       "      <td>Asthma</td>\n",
       "      <td>10413313</td>\n",
       "      <td>sodium fluoride</td>\n",
       "      <td>Drug Ineffective</td>\n",
       "      <td>0</td>\n",
       "    </tr>\n",
       "  </tbody>\n",
       "</table>\n",
       "</div>"
      ],
      "text/plain": [
       "      drug_indication safetyreportid atc_concept_name  \\\n",
       "1  Gonadal Dysgenesis       10040842  sodium fluoride   \n",
       "3  Gonadal Dysgenesis       10040842  sodium fluoride   \n",
       "5              Asthma       10298142  sodium fluoride   \n",
       "7              Asthma       10298142  sodium fluoride   \n",
       "8              Asthma       10413313  sodium fluoride   \n",
       "\n",
       "         meddra_concept_name  equal  \n",
       "1         Abnormal Behaviour      0  \n",
       "3             Vision Blurred      0  \n",
       "5  Drug Administration Error      0  \n",
       "7                   Insomnia      0  \n",
       "8           Drug Ineffective      0  "
      ]
     },
     "execution_count": 336,
     "metadata": {},
     "output_type": "execute_result"
    }
   ],
   "source": [
    "sub.head()"
   ]
  },
  {
   "cell_type": "code",
   "execution_count": 337,
   "metadata": {},
   "outputs": [],
   "source": [
    "num = sub.groupby(\"atc_concept_name\")['equal'].sum().sort_index()"
   ]
  },
  {
   "cell_type": "code",
   "execution_count": 338,
   "metadata": {},
   "outputs": [],
   "source": [
    "denom = sub[\"atc_concept_name\"].value_counts().sort_index()"
   ]
  },
  {
   "cell_type": "code",
   "execution_count": 339,
   "metadata": {},
   "outputs": [
    {
     "data": {
      "text/plain": [
       "atc_concept_name\n",
       "nizatidine             0.000000\n",
       "misoprostol            0.407056\n",
       "hydrogen peroxide      0.511073\n",
       "sodium fluoride        0.697211\n",
       "stannous fluoride      0.735294\n",
       "chlorhexidine          0.735612\n",
       "cimetidine             0.743034\n",
       "aluminium hydroxide    0.772201\n",
       "miconazole             1.023392\n",
       "famotidine             1.073885\n",
       "ranitidine             1.082113\n",
       "omeprazole             1.088259\n",
       "triamcinolone          1.295642\n",
       "dtype: float64"
      ]
     },
     "execution_count": 339,
     "metadata": {},
     "output_type": "execute_result"
    }
   ],
   "source": [
    "((num / denom) * 100).sort_values()"
   ]
  },
  {
   "cell_type": "markdown",
   "metadata": {},
   "source": [
    "### What is the average age for reports for each drug and for each indication (i.e drug, indication pair)"
   ]
  },
  {
   "cell_type": "code",
   "execution_count": 340,
   "metadata": {},
   "outputs": [],
   "source": [
    "# Humanized Algorithm\n",
    "# Extract the \"age\", \"atc_concept_name\", \"drug_indication\" \"safetyreportid\"\n",
    "# groupby (drug,indication) \n",
    "# average \"age\" "
   ]
  },
  {
   "cell_type": "code",
   "execution_count": 341,
   "metadata": {},
   "outputs": [
    {
     "data": {
      "text/plain": [
       "drug_indication          atc_concept_name\n",
       "ABDOMINAL ABSCESS        famotidine           5.000000\n",
       "ABDOMINAL DISCOMFORT     cimetidine          18.000000\n",
       "                         famotidine          15.046512\n",
       "                         misoprostol          2.000000\n",
       "                         omeprazole          12.650000\n",
       "                                               ...    \n",
       "WOUND TREATMENT          chlorhexidine       14.000000\n",
       "                         famotidine          10.000000\n",
       "WRONG DRUG ADMINISTERED  omeprazole          21.000000\n",
       "YEAST INFECTION          miconazole          17.000000\n",
       "ZYGOMYCOSIS              famotidine           5.019048\n",
       "Name: age, Length: 3559, dtype: float64"
      ]
     },
     "execution_count": 341,
     "metadata": {},
     "output_type": "execute_result"
    }
   ],
   "source": [
    "sub = \\\n",
    "(dat.\n",
    "    loc[:,[\"age\", \"atc_concept_name\", \"drug_indication\", \"safetyreportid\"]].\n",
    " groupby([\"drug_indication\", \"atc_concept_name\"])['age'].mean()\n",
    ")\n",
    "sub"
   ]
  },
  {
   "cell_type": "markdown",
   "metadata": {},
   "source": [
    "### What is the number of unique drugs reported by different reporters (i.e. report_qualification)?"
   ]
  },
  {
   "cell_type": "code",
   "execution_count": 355,
   "metadata": {},
   "outputs": [
    {
     "data": {
      "text/plain": [
       "reporter_qualification\n",
       "Lawyer                                  7\n",
       "Pharmacist                             11\n",
       "Other health professional              12\n",
       "Consumer or non-health professional    13\n",
       "Physician                              13\n",
       "Name: atc_concept_name, dtype: int64"
      ]
     },
     "execution_count": 355,
     "metadata": {},
     "output_type": "execute_result"
    }
   ],
   "source": [
    "\n",
    "(dat.\n",
    "loc[:,[\"safetyreportid\", \"reporter_qualification\", \"atc_concept_name\"]].\n",
    " drop_duplicates().\n",
    " groupby(\"reporter_qualification\")[\"atc_concept_name\"].nunique().sort_values()\n",
    ")\n"
   ]
  },
  {
   "cell_type": "markdown",
   "metadata": {},
   "source": [
    "### What is the percent of drugs, out of all reported drugs, reported by different reporters?"
   ]
  },
  {
   "cell_type": "code",
   "execution_count": 356,
   "metadata": {},
   "outputs": [
    {
     "data": {
      "text/plain": [
       "reporter_qualification\n",
       "Lawyer                                 0.538462\n",
       "Pharmacist                             0.846154\n",
       "Other health professional              0.923077\n",
       "Consumer or non-health professional    1.000000\n",
       "Physician                              1.000000\n",
       "Name: atc_concept_name, dtype: float64"
      ]
     },
     "execution_count": 356,
     "metadata": {},
     "output_type": "execute_result"
    }
   ],
   "source": [
    "(dat.\n",
    "loc[:,[\"safetyreportid\", \"reporter_qualification\", \"atc_concept_name\"]].\n",
    " drop_duplicates().\n",
    " groupby(\"reporter_qualification\")[\"atc_concept_name\"].nunique().sort_values()\n",
    ") / dat.atc_concept_name.nunique()"
   ]
  },
  {
   "cell_type": "code",
   "execution_count": null,
   "metadata": {},
   "outputs": [],
   "source": []
  },
  {
   "cell_type": "markdown",
   "metadata": {},
   "source": [
    "### What is the average age of reports by each reporter?"
   ]
  },
  {
   "cell_type": "code",
   "execution_count": 358,
   "metadata": {},
   "outputs": [
    {
     "data": {
      "text/plain": [
       "reporter_qualification\n",
       "Consumer or non-health professional    12.605176\n",
       "Lawyer                                 10.548540\n",
       "Other health professional              11.861415\n",
       "Pharmacist                             10.845653\n",
       "Physician                              11.476089\n",
       "Name: age, dtype: float64"
      ]
     },
     "execution_count": 358,
     "metadata": {},
     "output_type": "execute_result"
    }
   ],
   "source": [
    "(dat.\n",
    "    loc[:,[\"age\", \"reporter_qualification\", \"safetyreportid\"]].\n",
    "    groupby(\"reporter_qualification\")[\"age\"].mean()\n",
    ")"
   ]
  },
  {
   "cell_type": "markdown",
   "metadata": {},
   "source": [
    "### Of all the reports that have Asthma, what is the percent breakdown of each reporter?"
   ]
  },
  {
   "cell_type": "code",
   "execution_count": 413,
   "metadata": {},
   "outputs": [
    {
     "data": {
      "text/plain": [
       "reporter_qualification\n",
       "Consumer or non-health professional    0.435780\n",
       "Lawyer                                 0.004587\n",
       "Other health professional              0.183486\n",
       "Pharmacist                             0.045872\n",
       "Physician                              0.330275\n",
       "Name: safetyreportid, dtype: float64"
      ]
     },
     "execution_count": 413,
     "metadata": {},
     "output_type": "execute_result"
    }
   ],
   "source": [
    "sub = \\\n",
    "(dat.\n",
    "    query(\"drug_indication == 'ASTHMA'\").\n",
    "    loc[:,[\"drug_indication\", \"safetyreportid\", \"reporter_qualification\"]].\n",
    "    groupby(\"reporter_qualification\")[\"safetyreportid\"].nunique()\n",
    "\n",
    ")\n",
    "denom = (dat.\n",
    "  query(\"drug_indication == 'ASTHMA'\")[\"safetyreportid\"].\n",
    "    nunique()\n",
    ")   \n",
    "sub / denom"
   ]
  },
  {
   "cell_type": "code",
   "execution_count": null,
   "metadata": {},
   "outputs": [],
   "source": []
  }
 ],
 "metadata": {
  "kernelspec": {
   "display_name": "Python 3",
   "language": "python",
   "name": "python3"
  },
  "language_info": {
   "codemirror_mode": {
    "name": "ipython",
    "version": 3
   },
   "file_extension": ".py",
   "mimetype": "text/x-python",
   "name": "python",
   "nbconvert_exporter": "python",
   "pygments_lexer": "ipython3",
   "version": "3.5.3"
  }
 },
 "nbformat": 4,
 "nbformat_minor": 4
}

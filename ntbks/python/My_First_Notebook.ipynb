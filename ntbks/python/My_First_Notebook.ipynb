{
 "cells": [
  {
   "cell_type": "markdown",
   "metadata": {},
   "source": [
    "## Playing around"
   ]
  },
  {
   "cell_type": "code",
   "execution_count": 10,
   "metadata": {},
   "outputs": [],
   "source": [
    "import numpy as np\n",
    "import pandas as pd\n",
    "\n",
    "%matplotlib inline"
   ]
  },
  {
   "cell_type": "code",
   "execution_count": 4,
   "metadata": {},
   "outputs": [],
   "source": [
    "dat = pd.read_csv('../../data/pediatric_patient_drug_reports.csv',index_col=0)"
   ]
  },
  {
   "cell_type": "code",
   "execution_count": 5,
   "metadata": {},
   "outputs": [
    {
     "data": {
      "text/html": [
       "<div>\n",
       "<style scoped>\n",
       "    .dataframe tbody tr th:only-of-type {\n",
       "        vertical-align: middle;\n",
       "    }\n",
       "\n",
       "    .dataframe tbody tr th {\n",
       "        vertical-align: top;\n",
       "    }\n",
       "\n",
       "    .dataframe thead th {\n",
       "        text-align: right;\n",
       "    }\n",
       "</style>\n",
       "<table border=\"1\" class=\"dataframe\">\n",
       "  <thead>\n",
       "    <tr style=\"text-align: right;\">\n",
       "      <th></th>\n",
       "      <th>safetyreportid</th>\n",
       "      <th>age</th>\n",
       "      <th>atc_concept_id</th>\n",
       "      <th>atc_concept_name</th>\n",
       "      <th>meddra_concept_id</th>\n",
       "      <th>meddra_concept_name</th>\n",
       "    </tr>\n",
       "  </thead>\n",
       "  <tbody>\n",
       "    <tr>\n",
       "      <th>0</th>\n",
       "      <td>10040842</td>\n",
       "      <td>8.0</td>\n",
       "      <td>21600005</td>\n",
       "      <td>sodium fluoride</td>\n",
       "      <td>36919098</td>\n",
       "      <td>Abnormal Behaviour</td>\n",
       "    </tr>\n",
       "    <tr>\n",
       "      <th>2</th>\n",
       "      <td>10040842</td>\n",
       "      <td>8.0</td>\n",
       "      <td>21600005</td>\n",
       "      <td>sodium fluoride</td>\n",
       "      <td>35607483</td>\n",
       "      <td>Vision Blurred</td>\n",
       "    </tr>\n",
       "    <tr>\n",
       "      <th>4</th>\n",
       "      <td>10298142</td>\n",
       "      <td>2.0</td>\n",
       "      <td>21600005</td>\n",
       "      <td>sodium fluoride</td>\n",
       "      <td>36211461</td>\n",
       "      <td>Drug Administration Error</td>\n",
       "    </tr>\n",
       "    <tr>\n",
       "      <th>6</th>\n",
       "      <td>10298142</td>\n",
       "      <td>2.0</td>\n",
       "      <td>21600005</td>\n",
       "      <td>sodium fluoride</td>\n",
       "      <td>36718555</td>\n",
       "      <td>Insomnia</td>\n",
       "    </tr>\n",
       "    <tr>\n",
       "      <th>8</th>\n",
       "      <td>10413313</td>\n",
       "      <td>14.0</td>\n",
       "      <td>21600005</td>\n",
       "      <td>sodium fluoride</td>\n",
       "      <td>35809327</td>\n",
       "      <td>Drug Ineffective</td>\n",
       "    </tr>\n",
       "    <tr>\n",
       "      <th>...</th>\n",
       "      <td>...</td>\n",
       "      <td>...</td>\n",
       "      <td>...</td>\n",
       "      <td>...</td>\n",
       "      <td>...</td>\n",
       "      <td>...</td>\n",
       "    </tr>\n",
       "    <tr>\n",
       "      <th>483001</th>\n",
       "      <td>12667800</td>\n",
       "      <td>16.0</td>\n",
       "      <td>21600493</td>\n",
       "      <td>ondansetron</td>\n",
       "      <td>36009738</td>\n",
       "      <td>Drug Hypersensitivity</td>\n",
       "    </tr>\n",
       "    <tr>\n",
       "      <th>483006</th>\n",
       "      <td>12667800</td>\n",
       "      <td>16.0</td>\n",
       "      <td>21600493</td>\n",
       "      <td>ondansetron</td>\n",
       "      <td>37622449</td>\n",
       "      <td>Hypotension</td>\n",
       "    </tr>\n",
       "    <tr>\n",
       "      <th>483011</th>\n",
       "      <td>12667800</td>\n",
       "      <td>16.0</td>\n",
       "      <td>21600493</td>\n",
       "      <td>ondansetron</td>\n",
       "      <td>37320164</td>\n",
       "      <td>Rash Erythematous</td>\n",
       "    </tr>\n",
       "    <tr>\n",
       "      <th>483016</th>\n",
       "      <td>12667800</td>\n",
       "      <td>16.0</td>\n",
       "      <td>21600493</td>\n",
       "      <td>ondansetron</td>\n",
       "      <td>35708208</td>\n",
       "      <td>Vomiting</td>\n",
       "    </tr>\n",
       "    <tr>\n",
       "      <th>483021</th>\n",
       "      <td>12668395</td>\n",
       "      <td>20.0</td>\n",
       "      <td>21600493</td>\n",
       "      <td>ondansetron</td>\n",
       "      <td>35708100</td>\n",
       "      <td>Constipation</td>\n",
       "    </tr>\n",
       "  </tbody>\n",
       "</table>\n",
       "<p>100000 rows × 6 columns</p>\n",
       "</div>"
      ],
      "text/plain": [
       "       safetyreportid   age  atc_concept_id atc_concept_name  \\\n",
       "0            10040842   8.0        21600005  sodium fluoride   \n",
       "2            10040842   8.0        21600005  sodium fluoride   \n",
       "4            10298142   2.0        21600005  sodium fluoride   \n",
       "6            10298142   2.0        21600005  sodium fluoride   \n",
       "8            10413313  14.0        21600005  sodium fluoride   \n",
       "...               ...   ...             ...              ...   \n",
       "483001       12667800  16.0        21600493      ondansetron   \n",
       "483006       12667800  16.0        21600493      ondansetron   \n",
       "483011       12667800  16.0        21600493      ondansetron   \n",
       "483016       12667800  16.0        21600493      ondansetron   \n",
       "483021       12668395  20.0        21600493      ondansetron   \n",
       "\n",
       "        meddra_concept_id        meddra_concept_name  \n",
       "0                36919098         Abnormal Behaviour  \n",
       "2                35607483             Vision Blurred  \n",
       "4                36211461  Drug Administration Error  \n",
       "6                36718555                   Insomnia  \n",
       "8                35809327           Drug Ineffective  \n",
       "...                   ...                        ...  \n",
       "483001           36009738      Drug Hypersensitivity  \n",
       "483006           37622449                Hypotension  \n",
       "483011           37320164          Rash Erythematous  \n",
       "483016           35708208                   Vomiting  \n",
       "483021           35708100               Constipation  \n",
       "\n",
       "[100000 rows x 6 columns]"
      ]
     },
     "execution_count": 5,
     "metadata": {},
     "output_type": "execute_result"
    }
   ],
   "source": [
    "dat"
   ]
  },
  {
   "cell_type": "markdown",
   "metadata": {},
   "source": [
    "## showing data characteristics and objects"
   ]
  },
  {
   "cell_type": "code",
   "execution_count": 6,
   "metadata": {},
   "outputs": [
    {
     "data": {
      "text/plain": [
       "pandas.core.frame.DataFrame"
      ]
     },
     "execution_count": 6,
     "metadata": {},
     "output_type": "execute_result"
    }
   ],
   "source": [
    "type(dat)"
   ]
  },
  {
   "cell_type": "code",
   "execution_count": 7,
   "metadata": {},
   "outputs": [
    {
     "data": {
      "text/plain": [
       "0          8.0\n",
       "2          8.0\n",
       "4          2.0\n",
       "6          2.0\n",
       "8         14.0\n",
       "          ... \n",
       "483001    16.0\n",
       "483006    16.0\n",
       "483011    16.0\n",
       "483016    16.0\n",
       "483021    20.0\n",
       "Name: age, Length: 100000, dtype: float64"
      ]
     },
     "execution_count": 7,
     "metadata": {},
     "output_type": "execute_result"
    }
   ],
   "source": [
    "dat.age"
   ]
  },
  {
   "cell_type": "code",
   "execution_count": 8,
   "metadata": {},
   "outputs": [
    {
     "data": {
      "text/plain": [
       "0         21600005\n",
       "2         21600005\n",
       "4         21600005\n",
       "6         21600005\n",
       "8         21600005\n",
       "            ...   \n",
       "483001    21600493\n",
       "483006    21600493\n",
       "483011    21600493\n",
       "483016    21600493\n",
       "483021    21600493\n",
       "Name: atc_concept_id, Length: 100000, dtype: int64"
      ]
     },
     "execution_count": 8,
     "metadata": {},
     "output_type": "execute_result"
    }
   ],
   "source": [
    "dat.atc_concept_id"
   ]
  },
  {
   "cell_type": "code",
   "execution_count": 11,
   "metadata": {},
   "outputs": [
    {
     "data": {
      "text/plain": [
       "<matplotlib.axes._subplots.AxesSubplot at 0x7d9f478c9ac8>"
      ]
     },
     "execution_count": 11,
     "metadata": {},
     "output_type": "execute_result"
    },
    {
     "data": {
      "image/png": "[encoded data removed]",
      "text/plain": [
       "<Figure size 432x288 with 1 Axes>"
      ]
     },
     "metadata": {
      "needs_background": "light"
     },
     "output_type": "display_data"
    }
   ],
   "source": [
    "dat.age.hist()"
   ]
  },
  {
   "cell_type": "markdown",
   "metadata": {},
   "source": [
    "## What are the top ten reported reactions?"
   ]
  },
  {
   "cell_type": "code",
   "execution_count": 17,
   "metadata": {},
   "outputs": [
    {
     "data": {
      "text/plain": [
       "<matplotlib.axes._subplots.AxesSubplot at 0x7d9f44b71208>"
      ]
     },
     "execution_count": 17,
     "metadata": {},
     "output_type": "execute_result"
    },
    {
     "data": {
      "image/png": "[encoded data removed]",
      "text/plain": [
       "<Figure size 432x288 with 1 Axes>"
      ]
     },
     "metadata": {
      "needs_background": "light"
     },
     "output_type": "display_data"
    }
   ],
   "source": [
    "(dat.\n",
    " loc[:,['safetyreportid','meddra_concept_name']].\n",
    " drop_duplicates().\n",
    " groupby('meddra_concept_name').\n",
    " count().\n",
    " sort_values('safetyreportid',ascending=False).\n",
    " head(10).\n",
    " plot.barh()\n",
    ")"
   ]
  },
  {
   "cell_type": "markdown",
   "metadata": {},
   "source": [
    "## What are the top ten reported drugs?"
   ]
  },
  {
   "cell_type": "code",
   "execution_count": 21,
   "metadata": {},
   "outputs": [
    {
     "data": {
      "text/plain": [
       "<matplotlib.axes._subplots.AxesSubplot at 0x7d9f44a6beb8>"
      ]
     },
     "execution_count": 21,
     "metadata": {},
     "output_type": "execute_result"
    },
    {
     "data": {
      "image/png": "[encoded data removed]",
      "text/plain": [
       "<Figure size 432x288 with 1 Axes>"
      ]
     },
     "metadata": {
      "needs_background": "light"
     },
     "output_type": "display_data"
    }
   ],
   "source": [
    "(dat.\n",
    "loc[:,['atc_concept_name','safetyreportid']].\n",
    "drop_duplicates().\n",
    "groupby('atc_concept_name').\n",
    "    count().\n",
    "    sort_values('safetyreportid', ascending=False).\n",
    "    head(10).\n",
    "    plot.barh()\n",
    "    )"
   ]
  },
  {
   "cell_type": "code",
   "execution_count": null,
   "metadata": {},
   "outputs": [],
   "source": []
  }
 ],
 "metadata": {
  "kernelspec": {
   "display_name": "Python 3",
   "language": "python",
   "name": "python3"
  },
  "language_info": {
   "codemirror_mode": {
    "name": "ipython",
    "version": 3
   },
   "file_extension": ".py",
   "mimetype": "text/x-python",
   "name": "python",
   "nbconvert_exporter": "python",
   "pygments_lexer": "ipython3",
   "version": "3.5.3"
  }
 },
 "nbformat": 4,
 "nbformat_minor": 4
}
